{
 "cells": [
  {
   "cell_type": "code",
   "execution_count": 1,
   "metadata": {},
   "outputs": [],
   "source": [
    "%include \"TimeMagic.swift\""
   ]
  },
  {
   "cell_type": "code",
   "execution_count": 2,
   "metadata": {},
   "outputs": [],
   "source": [
    "func test(_ x: Int){\n",
    "    var n = x\n",
    "    for _ in (1...999){\n",
    "        n+=x\n",
    "    }\n",
    "    print(n)\n",
    "}"
   ]
  },
  {
   "cell_type": "code",
   "execution_count": 3,
   "metadata": {},
   "outputs": [
    {
     "name": "stdout",
     "output_type": "stream",
     "text": [
      "5000\r\n",
      "130.597 µs\r\n"
     ]
    }
   ],
   "source": [
    "%%time\n",
    "test(5)"
   ]
  },
  {
   "cell_type": "code",
   "execution_count": 4,
   "metadata": {},
   "outputs": [
    {
     "name": "stdout",
     "output_type": "stream",
     "text": [
      "10000\r\n",
      "10000\r\n",
      "10000\r\n",
      "10000\r\n",
      "10000\r\n",
      "10000\r\n",
      "10000\r\n",
      "10000\r\n",
      "10000\r\n",
      "10000\r\n",
      "Max: 25.701 µs\r\n",
      "Min: 1.274 µs\r\n",
      "Mean: 4.7614 µs\r\n",
      "Std Dev: 7.09303142809899 µs\r\n"
     ]
    }
   ],
   "source": [
    "%%timeit\n",
    "test(10)"
   ]
  },
  {
   "cell_type": "code",
   "execution_count": 10,
   "metadata": {},
   "outputs": [
    {
     "name": "stdout",
     "output_type": "stream",
     "text": [
      "5000\r\n",
      "5000\r\n",
      "5000\r\n",
      "Max: 36.726 µs\r\n",
      "Min: 4.159 µs\r\n",
      "Mean: 16.274333333333335 µs\r\n",
      "Std Dev: 14.543571600156849 µs\r\n"
     ]
    }
   ],
   "source": [
    "%%timeit  3\n",
    "test(5)"
   ]
  },
  {
   "cell_type": "code",
   "execution_count": 11,
   "metadata": {},
   "outputs": [
    {
     "name": "stdout",
     "output_type": "stream",
     "text": [
      "5000\r\n",
      "5000\r\n",
      "Max: 35.129 µs\r\n",
      "Min: 10.226 µs\r\n",
      "Mean: 22.6775 µs\r\n",
      "Std Dev: 12.4515 µs\r\n"
     ]
    }
   ],
   "source": [
    "%%timeit 2\n",
    "test(5)"
   ]
  },
  {
   "cell_type": "code",
   "execution_count": 12,
   "metadata": {
    "scrolled": true
   },
   "outputs": [
    {
     "name": "stdout",
     "output_type": "stream",
     "text": [
      "Max: 13.718 µs\r\n",
      "Min: 50.0 ns\r\n",
      "Mean: 56.6989 ns\r\n",
      "Std Dev: 46.306278610939025 ns\r\n"
     ]
    }
   ],
   "source": [
    "%%timeit 100000\n",
    "\n",
    "let x: Int = 3\n",
    "var y: Int = x\n",
    "\n",
    "for _ in (0...10000){\n",
    "    for _ in (0...10000){\n",
    "        y = x * y\n",
    "    }\n",
    "}"
   ]
  },
  {
   "cell_type": "code",
   "execution_count": null,
   "metadata": {},
   "outputs": [],
   "source": []
  },
  {
   "cell_type": "code",
   "execution_count": null,
   "metadata": {},
   "outputs": [],
   "source": []
  },
  {
   "cell_type": "code",
   "execution_count": null,
   "metadata": {},
   "outputs": [],
   "source": []
  },
  {
   "cell_type": "code",
   "execution_count": null,
   "metadata": {},
   "outputs": [],
   "source": []
  },
  {
   "cell_type": "code",
   "execution_count": null,
   "metadata": {},
   "outputs": [],
   "source": []
  },
  {
   "cell_type": "code",
   "execution_count": null,
   "metadata": {},
   "outputs": [],
   "source": []
  },
  {
   "cell_type": "code",
   "execution_count": null,
   "metadata": {},
   "outputs": [],
   "source": []
  }
 ],
 "metadata": {
  "kernelspec": {
   "display_name": "Swift",
   "language": "swift",
   "name": "swift"
  },
  "language_info": {
   "file_extension": ".swift",
   "mimetype": "text/x-swift",
   "name": "swift",
   "version": ""
  }
 },
 "nbformat": 4,
 "nbformat_minor": 2
}
