{
 "cells": [
  {
   "cell_type": "code",
   "execution_count": 3,
   "metadata": {
    "scrolled": true
   },
   "outputs": [
    {
     "name": "stdout",
     "output_type": "stream",
     "text": [
      "Installing packages:\n",
      "\t.package(path: \"~/gitrepos/TimeMagic\")\n",
      "\t\tTimeMagic\n",
      "Completed resolution in 0.37s\n",
      "Compile Swift Module 'TimeMagic' (1 sources)\n",
      "Compile Swift Module 'jupyterInstalledPackages' (1 sources)\n",
      "Linking ./.build/x86_64-unknown-linux/debug/libjupyterInstalledPackages.so\n",
      "Installation complete!"
     ]
    }
   ],
   "source": [
    "%install '.package(path: \"~/gitrepos/TimeMagic\")' TimeMagic"
   ]
  },
  {
   "cell_type": "code",
   "execution_count": 4,
   "metadata": {},
   "outputs": [],
   "source": [
    "import TensorFlow"
   ]
  },
  {
   "cell_type": "code",
   "execution_count": 5,
   "metadata": {},
   "outputs": [],
   "source": [
    "import TimeMagic"
   ]
  },
  {
   "cell_type": "code",
   "execution_count": 6,
   "metadata": {},
   "outputs": [],
   "source": [
    "enableCPU()"
   ]
  },
  {
   "cell_type": "code",
   "execution_count": 7,
   "metadata": {},
   "outputs": [],
   "source": [
    "var x: Tensor<Float> = Tensor(randomNormal: [1000, 1000])\n",
    "var y: Tensor<Float> = Tensor(randomNormal: [1000, 1000])"
   ]
  },
  {
   "cell_type": "code",
   "execution_count": 8,
   "metadata": {
    "scrolled": true
   },
   "outputs": [
    {
     "name": "stdout",
     "output_type": "stream",
     "text": [
      "Max: 51.088 µs\r\n",
      "Min: 13.159 µs\r\n",
      "Mean: 13.614464 µs\r\n",
      "Std Dev: 1.457056054070673 µs\r\n"
     ]
    }
   ],
   "source": [
    "%%timeit 1000\n",
    "var _ = matmul(x,y)"
   ]
  },
  {
   "cell_type": "code",
   "execution_count": 9,
   "metadata": {},
   "outputs": [],
   "source": [
    "enableGPU()"
   ]
  },
  {
   "cell_type": "code",
   "execution_count": 10,
   "metadata": {},
   "outputs": [],
   "source": [
    "var x: Tensor<Float> = Tensor(randomNormal: [1000, 1000])\n",
    "var y: Tensor<Float> = Tensor(randomNormal: [1000, 1000])"
   ]
  },
  {
   "cell_type": "code",
   "execution_count": 22,
   "metadata": {},
   "outputs": [
    {
     "name": "stdout",
     "output_type": "stream",
     "text": [
      "Max: 7.20548 ms\r\n",
      "Min: 3.53523 ms\r\n",
      "Mean: 3.878070619 ms\r\n",
      "Std Dev: 223.7475553704346 µs\r\n"
     ]
    }
   ],
   "source": [
    "%%timeit 1000\n",
    "withDevice(DeviceKind.cpu){var _ = matmul(x,y)}"
   ]
  },
  {
   "cell_type": "code",
   "execution_count": 23,
   "metadata": {},
   "outputs": [
    {
     "name": "stdout",
     "output_type": "stream",
     "text": [
      "Max: 77.272 µs\r\n",
      "Min: 19.15 µs\r\n",
      "Mean: 32.084067 µs\r\n",
      "Std Dev: 10.078865044860505 µs\r\n"
     ]
    }
   ],
   "source": [
    "%%timeit 1000\n",
    "withDevice(DeviceKind.gpu){var _ = matmul(x,y)}"
   ]
  }
 ],
 "metadata": {
  "kernelspec": {
   "display_name": "Swift",
   "language": "swift",
   "name": "swift"
  },
  "language_info": {
   "file_extension": ".swift",
   "mimetype": "text/x-swift",
   "name": "swift",
   "version": ""
  }
 },
 "nbformat": 4,
 "nbformat_minor": 2
}
